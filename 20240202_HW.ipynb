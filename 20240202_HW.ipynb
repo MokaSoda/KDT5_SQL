{
 "cells": [
  {
   "cell_type": "code",
   "execution_count": 1,
   "id": "initial_id",
   "metadata": {
    "collapsed": true,
    "ExecuteTime": {
     "end_time": "2024-02-02T08:03:28.773382600Z",
     "start_time": "2024-02-02T08:03:28.758969400Z"
    }
   },
   "outputs": [],
   "source": [
    "import pymysql\n"
   ]
  },
  {
   "cell_type": "code",
   "outputs": [],
   "source": [
    "conn = pymysql.connect(\n",
    "    host='localhost',\n",
    "    user='root',\n",
    "    password='1234',\n",
    "    # db='shoppingmall',\n",
    "    charset='utf8'\n",
    ")"
   ],
   "metadata": {
    "collapsed": false,
    "ExecuteTime": {
     "end_time": "2024-02-02T08:03:28.791884100Z",
     "start_time": "2024-02-02T08:03:28.771388900Z"
    }
   },
   "id": "6705852e6b75516d",
   "execution_count": 2
  },
  {
   "cell_type": "code",
   "outputs": [],
   "source": [
    "cur = conn.cursor()\n",
    "cur.execute('''drop schema if exists shoppingmall''')\n",
    "cur.execute('''create schema shoppingmall''')\n",
    "cur.execute('''use shoppingmall''')\n",
    "conn.commit()"
   ],
   "metadata": {
    "collapsed": false,
    "ExecuteTime": {
     "end_time": "2024-02-02T08:03:28.791884100Z",
     "start_time": "2024-02-02T08:03:28.779107900Z"
    }
   },
   "id": "320915c3bf94cc6e",
   "execution_count": 3
  },
  {
   "cell_type": "code",
   "outputs": [],
   "source": [
    "queryDelUserTableBeforeCreate = '''drop table if exists user_table'''\n",
    "queryCreateUserTable = '''\n",
    "create table user_table\n",
    "(\n",
    "    userID    char(8)     not null comment '사용자 ID',\n",
    "    userName  varchar(10) not null comment '이름',\n",
    "    birthYear int         not null comment '출생년도',\n",
    "    addr      char(2)     not null comment '경기, 서울 등 2글자',\n",
    "    mobile1   char(3)     null comment '휴대폰 국번',\n",
    "    mobile2   char(8)     null comment '휴대폰 나머지 전화번호',\n",
    "    height    smallint    null comment '키',\n",
    "    mDate     DATE        null comment '회원 가입일',\n",
    "    constraint pk_userID\n",
    "        primary key (userID)\n",
    ")\n",
    "'''\n",
    "queryDelPRDTableBeforeCreate = '''drop table if exists buy_table'''\n",
    "queryCreateBuyTable = '''\n",
    "create table buy_table\n",
    "(\n",
    "    num       int auto_increment comment '순번',\n",
    "    userID    char(8)  not null comment '아이디 (FK)',\n",
    "    prodName  char(6)  not null comment '물품명',\n",
    "    groupName char(4)  null comment '분류',\n",
    "    price     int      not null comment '단가',\n",
    "    amount    smallint not null comment '수량',\n",
    "    constraint buy_table_pk\n",
    "        primary key (num),\n",
    "    constraint buy_table_user_table_userID_fk\n",
    "        foreign key (userID) references user_table (userID)\n",
    ")\n",
    "'''\n",
    "cur.execute(queryDelUserTableBeforeCreate)\n",
    "cur.execute(queryCreateUserTable)\n",
    "cur.execute(queryDelPRDTableBeforeCreate)\n",
    "cur.execute(queryCreateBuyTable)\n",
    "conn.commit()"
   ],
   "metadata": {
    "collapsed": false,
    "ExecuteTime": {
     "end_time": "2024-02-02T08:03:28.844849Z",
     "start_time": "2024-02-02T08:03:28.790520800Z"
    }
   },
   "id": "a99483dee6c18886",
   "execution_count": 4
  },
  {
   "cell_type": "code",
   "outputs": [],
   "source": [
    "\n",
    "userID = (\n",
    "'KHD',\n",
    "'KJD',\n",
    "'KKJ',\n",
    "'KYM',\n",
    "'LHJ',\n",
    "'LKK',\n",
    "'NHS',\n",
    "'PSH',\n",
    "'SDY',\n",
    "'YJS',\n",
    ")\n",
    "\n",
    "userName = (\n",
    "'강호동',\n",
    "'김제동',\n",
    "'김국진',\n",
    "'김용만',\n",
    "'이휘재',\n",
    "'이경규',\n",
    "'남희석',\n",
    "'박수홍',\n",
    "'신동엽',\n",
    "'유재석',\n",
    ")\n",
    "\n",
    "birthYear = (\n",
    "'1970',\n",
    "'1974',\n",
    "'1965',\n",
    "'1967',\n",
    "'1972',\n",
    "'1960',\n",
    "'1971',\n",
    "'1970',\n",
    "'1971',\n",
    "'1972',\n",
    ")\n",
    "\n",
    "addr = (\n",
    "'경북',\n",
    "'경남',\n",
    "'서울',\n",
    "'서울',\n",
    "'경기',\n",
    "'경남',\n",
    "'충남',\n",
    "'서울',\n",
    "'경기',\n",
    "'서울'\n",
    ")\n",
    "\n",
    "mobile1 = (\n",
    "'011',\n",
    "None,\n",
    "'019',\n",
    "'010',\n",
    "'011',\n",
    "'018',\n",
    "'016',\n",
    "'010',\n",
    "None,\n",
    "'010',\n",
    ")\n",
    "\n",
    "mobile2 = (\n",
    "'22222222',\n",
    "None,\n",
    "'33333333',\n",
    "'44444444',\n",
    "'88888888',\n",
    "'99999999',\n",
    "'66666666',\n",
    "'00000000',\n",
    "None,\n",
    "'11111111',\n",
    ")\n",
    "\n",
    "height = (\n",
    "'182',\n",
    "'173',\n",
    "'171',\n",
    "'177',\n",
    "'180',\n",
    "'170',\n",
    "'180',\n",
    "'183',\n",
    "'176',\n",
    "'178',\n",
    ")\n",
    "\n",
    "mDate = (\n",
    "'2007-07-07',\n",
    "'2013-03-03',\n",
    "'2009-09-09',\n",
    "'2015-05-05',\n",
    "'2006-04-04',\n",
    "'2004-12-12',\n",
    "'2017-04-04',\n",
    "'2012-05-05',\n",
    "'2008-10-10',\n",
    "'2008-08-08',\n",
    ")\n"
   ],
   "metadata": {
    "collapsed": false,
    "ExecuteTime": {
     "end_time": "2024-02-02T08:03:28.862356800Z",
     "start_time": "2024-02-02T08:03:28.842844300Z"
    }
   },
   "id": "661b4d67446b0381",
   "execution_count": 5
  },
  {
   "cell_type": "code",
   "outputs": [],
   "source": [
    "aggregatedUser = list(zip(userID, userName, birthYear, addr, mobile1, mobile2, height, mDate))"
   ],
   "metadata": {
    "collapsed": false,
    "ExecuteTime": {
     "end_time": "2024-02-02T08:03:28.862870700Z",
     "start_time": "2024-02-02T08:03:28.849567900Z"
    }
   },
   "id": "fbe885c27a004ffe",
   "execution_count": 6
  },
  {
   "cell_type": "code",
   "outputs": [],
   "source": [
    "queryInsertUserTable = '''\n",
    "insert into user_table (userID, userName, birthYear, addr, mobile1, mobile2, height, mDate)\n",
    "VALUES (%s,%s,%s,%s,%s,%s,%s,%s)\n",
    "'''\n",
    "cur.executemany(queryInsertUserTable, aggregatedUser)\n",
    "conn.commit()"
   ],
   "metadata": {
    "collapsed": false,
    "ExecuteTime": {
     "end_time": "2024-02-02T08:03:28.873557700Z",
     "start_time": "2024-02-02T08:03:28.852910500Z"
    }
   },
   "id": "70717e4446eef56b",
   "execution_count": 7
  },
  {
   "cell_type": "code",
   "outputs": [],
   "source": [],
   "metadata": {
    "collapsed": false,
    "ExecuteTime": {
     "end_time": "2024-02-02T08:03:28.874401800Z",
     "start_time": "2024-02-02T08:03:28.864871800Z"
    }
   },
   "id": "16c79e1ef616368a",
   "execution_count": 7
  },
  {
   "cell_type": "code",
   "outputs": [],
   "source": [],
   "metadata": {
    "collapsed": false,
    "ExecuteTime": {
     "end_time": "2024-02-02T08:03:28.874401800Z",
     "start_time": "2024-02-02T08:03:28.868285600Z"
    }
   },
   "id": "74bc2a10046ca2d0",
   "execution_count": 7
  },
  {
   "cell_type": "code",
   "outputs": [],
   "source": [
    "num = [None for x in range(12)]\n",
    "userID = [\n",
    "'KHD',\n",
    "'KHD',\n",
    "'KYM',\n",
    "'PSH',\n",
    "'KHD',\n",
    "'PSH',\n",
    "'KJD',\n",
    "'LHJ',\n",
    "'LHJ',\n",
    "'PSH',\n",
    "'LHJ',\n",
    "'PSH',\n",
    "]\n",
    "\n",
    "prodName = [\n",
    "'운동화',\n",
    "'노트북',\n",
    "'모니터',\n",
    "'모니터',\n",
    "'청바지',\n",
    "'메모리',\n",
    "'책',\n",
    "'책',\n",
    "'청바지',\n",
    "'운동화',\n",
    "'책',\n",
    "'운동화',\n",
    "]\n",
    "\n",
    "groupName = [\n",
    "None,\n",
    "'전자',\n",
    "'전자',\n",
    "'전자',\n",
    "'의류',\n",
    "'전자',\n",
    "'서적',\n",
    "'서적',\n",
    "'의류',\n",
    "None,\n",
    "'서적',\n",
    "None,\n",
    "]\n",
    "\n",
    "price = [\n",
    "30,\n",
    "1000,\n",
    "200,\n",
    "200,\n",
    "50,\n",
    "80,\n",
    "15,\n",
    "15,\n",
    "50,\n",
    "30,\n",
    "15,\n",
    "30,\n",
    "]\n",
    "\n",
    "amount = [\n",
    "2,\n",
    "1,\n",
    "1,\n",
    "5,\n",
    "3,\n",
    "10,\n",
    "5,\n",
    "2,\n",
    "1,\n",
    "2,\n",
    "1,\n",
    "2,\n",
    "]"
   ],
   "metadata": {
    "collapsed": false,
    "ExecuteTime": {
     "end_time": "2024-02-02T08:03:28.877899Z",
     "start_time": "2024-02-02T08:03:28.873557700Z"
    }
   },
   "id": "ab581b07fd498d24",
   "execution_count": 8
  },
  {
   "cell_type": "code",
   "outputs": [],
   "source": [
    "aggregatedBuy = list(zip(num, userID, prodName, groupName, price, amount))"
   ],
   "metadata": {
    "collapsed": false,
    "ExecuteTime": {
     "end_time": "2024-02-02T08:03:28.896883300Z",
     "start_time": "2024-02-02T08:03:28.877899Z"
    }
   },
   "id": "de2eafdfb6b5d0ed",
   "execution_count": 9
  },
  {
   "cell_type": "code",
   "outputs": [],
   "source": [
    "queryInsertBuyTable = '''\n",
    "insert into buy_table (num, userID, prodName, groupName, price, amount)\n",
    "VALUES (%s,%s,%s,%s,%s,%s)\n",
    "'''\n",
    "cur.executemany(queryInsertBuyTable, aggregatedBuy)\n",
    "conn.commit()"
   ],
   "metadata": {
    "collapsed": false,
    "ExecuteTime": {
     "end_time": "2024-02-02T08:03:28.929408Z",
     "start_time": "2024-02-02T08:03:28.881454600Z"
    }
   },
   "id": "c69ebfeebc05323",
   "execution_count": 10
  },
  {
   "cell_type": "code",
   "outputs": [],
   "source": [
    "def answerPrint(ansNum = 1, query='',conn = conn, cur = cur):\n",
    "    cur.execute(query)\n",
    "    result = cur.fetchall()\n",
    "    print(f\"문제 {ansNum}번\")\n",
    "    print(\"-------------------------------------------\")\n",
    "    print(\"-------------------------------------------\")"
   ],
   "metadata": {
    "collapsed": false,
    "ExecuteTime": {
     "end_time": "2024-02-02T08:03:28.929408Z",
     "start_time": "2024-02-02T08:03:28.893035100Z"
    }
   },
   "id": "97f0655c7a059595",
   "execution_count": 11
  },
  {
   "cell_type": "code",
   "outputs": [],
   "source": [
    "def ansPrint(ansNum, query, cur, conn):\n",
    "    cur.execute(query)\n",
    "    header = [x[0] for x in cur.description]\n",
    "    headertxt = '  '.join(header)\n",
    "    result = cur.fetchall()\n",
    "    print(f\"문제 {ansNum}번\")\n",
    "    print(\"-\" * (len(headertxt) + 12))\n",
    "    print(f\"{headertxt}\")\n",
    "    print(\"-\" * (len(headertxt) + 12))\n",
    "    for row in result:\n",
    "        print(row)"
   ],
   "metadata": {
    "collapsed": false,
    "ExecuteTime": {
     "end_time": "2024-02-02T08:03:28.931552400Z",
     "start_time": "2024-02-02T08:03:28.899388900Z"
    }
   },
   "id": "69788465ab6621b8",
   "execution_count": 12
  },
  {
   "cell_type": "code",
   "outputs": [
    {
     "name": "stdout",
     "output_type": "stream",
     "text": [
      "문제 1번\n",
      "-----------------------------------------\n",
      "userName  prodName  addr  연락처\n",
      "-----------------------------------------\n",
      "('강호동', '운동화', '경북', '01122222222')\n",
      "('강호동', '노트북', '경북', '01122222222')\n",
      "('강호동', '청바지', '경북', '01122222222')\n",
      "('김제동', '책', '경남', None)\n",
      "('김용만', '모니터', '서울', '01044444444')\n",
      "('이휘재', '책', '경기', '01188888888')\n",
      "('이휘재', '청바지', '경기', '01188888888')\n",
      "('이휘재', '책', '경기', '01188888888')\n",
      "('박수홍', '모니터', '서울', '01000000000')\n",
      "('박수홍', '메모리', '서울', '01000000000')\n",
      "('박수홍', '운동화', '서울', '01000000000')\n",
      "('박수홍', '운동화', '서울', '01000000000')\n",
      "문제 2번\n",
      "-------------------------------------------------\n",
      "userID  userName  prodName  addr  연락처\n",
      "-------------------------------------------------\n",
      "('KYM', '김용만', '모니터', '서울', '01044444444')\n",
      "문제 3번\n",
      "-------------------------------------------------\n",
      "userID  userName  prodName  addr  연락처\n",
      "-------------------------------------------------\n",
      "('KHD', '강호동', '운동화', '경북', '01122222222')\n",
      "('KHD', '강호동', '노트북', '경북', '01122222222')\n",
      "('KHD', '강호동', '청바지', '경북', '01122222222')\n",
      "('KJD', '김제동', '책', '경남', None)\n",
      "('KYM', '김용만', '모니터', '서울', '01044444444')\n",
      "('LHJ', '이휘재', '책', '경기', '01188888888')\n",
      "('LHJ', '이휘재', '청바지', '경기', '01188888888')\n",
      "('LHJ', '이휘재', '책', '경기', '01188888888')\n",
      "('PSH', '박수홍', '모니터', '서울', '01000000000')\n",
      "('PSH', '박수홍', '메모리', '서울', '01000000000')\n",
      "('PSH', '박수홍', '운동화', '서울', '01000000000')\n",
      "('PSH', '박수홍', '운동화', '서울', '01000000000')\n",
      "문제 4번\n",
      "----------------------------------\n",
      "userID  userName  addr\n",
      "----------------------------------\n",
      "('KHD', '강호동', '경북')\n",
      "('KJD', '김제동', '경남')\n",
      "('KYM', '김용만', '서울')\n",
      "('LHJ', '이휘재', '경기')\n",
      "('PSH', '박수홍', '서울')\n",
      "문제 5번\n",
      "---------------------------------------\n",
      "userID  userName  addr  연락처\n",
      "---------------------------------------\n",
      "('KHD', '강호동', '경북', '01122222222')\n",
      "('KHD', '강호동', '경북', '01122222222')\n",
      "('KHD', '강호동', '경북', '01122222222')\n",
      "('KJD', '김제동', '경남', None)\n"
     ]
    }
   ],
   "source": [
    "# 문제 1번 결과\n",
    "query1 = '''select userName, prodName, addr, concat(mobile1, mobile2) as 연락처\n",
    "from user_table inner join buy_table\n",
    "on buy_table.userID = user_table.userID;'''\n",
    "\n",
    "# 문제2번 결과\n",
    "query2 = '''select u.userID,\n",
    "       u.userName,\n",
    "       buy_table.prodName,\n",
    "       u.addr,\n",
    "       concat(u.mobile1, u.mobile2) as 연락처\n",
    "from user_table as u inner join buy_table\n",
    "    on buy_table.userID = u.userID\n",
    "where u.userID = 'KYM';'''\n",
    "\n",
    "#문제3\n",
    "query3 = '''select u.userID, u.userName, prodName, addr, concat(mobile1, mobile2) as 연락처\n",
    "from shoppingmall.user_table as u inner join shoppingmall.buy_table bt\n",
    "    on u.userID = bt.userID\n",
    "order by userID asc;'''\n",
    "\n",
    "#문제4\n",
    "query4 = '''select distinct ut.userID, userName, addr\n",
    "from buy_table as bt inner join shoppingmall.user_table ut\n",
    "    on bt.userID = ut.userID\n",
    "order by userID asc;'''\n",
    "\n",
    "#문제5\n",
    "query5 = '''select ut.userID, ut.userName, ut.addr, concat(mobile1, mobile2) as 연락처\n",
    "from buy_table as bt inner join shoppingmall.user_table ut\n",
    "    on bt.userID = ut.userID\n",
    "where addr in ('경북', '경남')\n",
    ";'''\n",
    "\n",
    "querylist = [query1, query2, query3, query4, query5]\n",
    "\n",
    "for idx, query in enumerate(querylist, 1):\n",
    "    ansPrint(idx, query, cur, conn)"
   ],
   "metadata": {
    "collapsed": false,
    "ExecuteTime": {
     "end_time": "2024-02-02T08:03:28.931552400Z",
     "start_time": "2024-02-02T08:03:28.903445600Z"
    }
   },
   "id": "a33e5faa682bbaa2",
   "execution_count": 13
  },
  {
   "cell_type": "code",
   "outputs": [],
   "source": [
    "cur.close()\n",
    "conn.close()"
   ],
   "metadata": {
    "collapsed": false,
    "ExecuteTime": {
     "end_time": "2024-02-02T08:03:28.932614Z",
     "start_time": "2024-02-02T08:03:28.913106Z"
    }
   },
   "id": "bb61ef0283a0b155",
   "execution_count": 14
  },
  {
   "cell_type": "code",
   "outputs": [],
   "source": [],
   "metadata": {
    "collapsed": false,
    "ExecuteTime": {
     "end_time": "2024-02-02T08:03:28.933662700Z",
     "start_time": "2024-02-02T08:03:28.918426900Z"
    }
   },
   "id": "9ce8a6813931e0b5",
   "execution_count": 14
  }
 ],
 "metadata": {
  "kernelspec": {
   "display_name": "Python 3",
   "language": "python",
   "name": "python3"
  },
  "language_info": {
   "codemirror_mode": {
    "name": "ipython",
    "version": 2
   },
   "file_extension": ".py",
   "mimetype": "text/x-python",
   "name": "python",
   "nbconvert_exporter": "python",
   "pygments_lexer": "ipython2",
   "version": "2.7.6"
  }
 },
 "nbformat": 4,
 "nbformat_minor": 5
}
