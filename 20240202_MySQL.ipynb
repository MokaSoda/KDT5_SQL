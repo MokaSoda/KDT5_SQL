{
 "cells": [
  {
   "cell_type": "code",
   "execution_count": 28,
   "id": "ade3108c101820a2",
   "metadata": {
    "collapsed": false,
    "ExecuteTime": {
     "end_time": "2024-02-02T06:02:47.830985600Z",
     "start_time": "2024-02-02T06:02:47.814202200Z"
    }
   },
   "outputs": [],
   "source": [
    "import pandas as pd\n",
    "import pymysql as sql"
   ]
  },
  {
   "cell_type": "markdown",
   "source": [
    "## 데이터베이스 접속하기"
   ],
   "metadata": {
    "collapsed": false
   },
   "id": "2863df082b3dc28c"
  },
  {
   "cell_type": "code",
   "outputs": [],
   "source": [
    "conn = sql.connect(\n",
    "    host='localhost',\n",
    "    user='root', \n",
    "    password='1234', \n",
    "    db='sakila', \n",
    "    charset='utf8',\n",
    ")"
   ],
   "metadata": {
    "collapsed": true,
    "ExecuteTime": {
     "end_time": "2024-02-02T06:02:47.857956900Z",
     "start_time": "2024-02-02T06:02:47.833976800Z"
    }
   },
   "id": "initial_id",
   "execution_count": 29
  },
  {
   "cell_type": "markdown",
   "source": [
    "## 데이터베이스 접근자 만든 후 해당 접근자로 데이터 가져오기"
   ],
   "metadata": {
    "collapsed": false
   },
   "id": "667bb4bf2d8fae34"
  },
  {
   "cell_type": "code",
   "outputs": [
    {
     "data": {
      "text/plain": "6"
     },
     "execution_count": 30,
     "metadata": {},
     "output_type": "execute_result"
    }
   ],
   "source": [
    "cur = conn.cursor()\n",
    "cur.execute('select * from language')"
   ],
   "metadata": {
    "collapsed": false,
    "ExecuteTime": {
     "end_time": "2024-02-02T06:02:47.882574200Z",
     "start_time": "2024-02-02T06:02:47.859949800Z"
    }
   },
   "id": "7e781168c998752f",
   "execution_count": 30
  },
  {
   "cell_type": "code",
   "outputs": [
    {
     "data": {
      "text/plain": "((1, 'English', datetime.datetime(2006, 2, 15, 5, 2, 19)),\n (2, 'Italian', datetime.datetime(2006, 2, 15, 5, 2, 19)),\n (3, 'Japanese', datetime.datetime(2006, 2, 15, 5, 2, 19)),\n (4, 'Mandarin', datetime.datetime(2006, 2, 15, 5, 2, 19)),\n (5, 'French', datetime.datetime(2006, 2, 15, 5, 2, 19)),\n (6, 'German', datetime.datetime(2006, 2, 15, 5, 2, 19)))"
     },
     "execution_count": 31,
     "metadata": {},
     "output_type": "execute_result"
    }
   ],
   "source": [
    "rows = cur.fetchall()\n",
    "rows"
   ],
   "metadata": {
    "collapsed": false,
    "ExecuteTime": {
     "end_time": "2024-02-02T06:02:47.906932Z",
     "start_time": "2024-02-02T06:02:47.885563700Z"
    }
   },
   "id": "6fbf032b9454ecc2",
   "execution_count": 31
  },
  {
   "cell_type": "code",
   "outputs": [
    {
     "data": {
      "text/plain": "(('language_id', 1, None, 3, 3, 0, False),\n ('name', 254, None, 60, 60, 0, False),\n ('last_update', 7, None, 19, 19, 0, False))"
     },
     "execution_count": 32,
     "metadata": {},
     "output_type": "execute_result"
    }
   ],
   "source": [
    "cur.description"
   ],
   "metadata": {
    "collapsed": false,
    "ExecuteTime": {
     "end_time": "2024-02-02T06:02:47.936722400Z",
     "start_time": "2024-02-02T06:02:47.909922700Z"
    }
   },
   "id": "263823624de9a343",
   "execution_count": 32
  },
  {
   "cell_type": "code",
   "outputs": [
    {
     "data": {
      "text/plain": "                 name         last_update\nlanguage_id                              \n1             English 2006-02-15 05:02:19\n2             Italian 2006-02-15 05:02:19\n3            Japanese 2006-02-15 05:02:19\n4            Mandarin 2006-02-15 05:02:19\n5              French 2006-02-15 05:02:19\n6              German 2006-02-15 05:02:19",
      "text/html": "<div>\n<style scoped>\n    .dataframe tbody tr th:only-of-type {\n        vertical-align: middle;\n    }\n\n    .dataframe tbody tr th {\n        vertical-align: top;\n    }\n\n    .dataframe thead th {\n        text-align: right;\n    }\n</style>\n<table border=\"1\" class=\"dataframe\">\n  <thead>\n    <tr style=\"text-align: right;\">\n      <th></th>\n      <th>name</th>\n      <th>last_update</th>\n    </tr>\n    <tr>\n      <th>language_id</th>\n      <th></th>\n      <th></th>\n    </tr>\n  </thead>\n  <tbody>\n    <tr>\n      <th>1</th>\n      <td>English</td>\n      <td>2006-02-15 05:02:19</td>\n    </tr>\n    <tr>\n      <th>2</th>\n      <td>Italian</td>\n      <td>2006-02-15 05:02:19</td>\n    </tr>\n    <tr>\n      <th>3</th>\n      <td>Japanese</td>\n      <td>2006-02-15 05:02:19</td>\n    </tr>\n    <tr>\n      <th>4</th>\n      <td>Mandarin</td>\n      <td>2006-02-15 05:02:19</td>\n    </tr>\n    <tr>\n      <th>5</th>\n      <td>French</td>\n      <td>2006-02-15 05:02:19</td>\n    </tr>\n    <tr>\n      <th>6</th>\n      <td>German</td>\n      <td>2006-02-15 05:02:19</td>\n    </tr>\n  </tbody>\n</table>\n</div>"
     },
     "execution_count": 33,
     "metadata": {},
     "output_type": "execute_result"
    }
   ],
   "source": [
    "lang_df = pd.DataFrame(rows, columns=[i[0] for i in cur.description])\n",
    "lang_df.set_index('language_id', inplace=True)\n",
    "lang_df\n"
   ],
   "metadata": {
    "collapsed": false,
    "ExecuteTime": {
     "end_time": "2024-02-02T06:02:47.937861800Z",
     "start_time": "2024-02-02T06:02:47.915193700Z"
    }
   },
   "id": "c47724644443e4f2",
   "execution_count": 33
  },
  {
   "cell_type": "code",
   "outputs": [
    {
     "name": "stdout",
     "output_type": "stream",
     "text": [
      "JEFFERY.PINSON@sakilacustomer.org\n",
      "ELMER.NOE@sakilacustomer.org\n",
      "MINNIE.ROMERO@sakilacustomer.org\n",
      "MIRIAM.MCKINNEY@sakilacustomer.org\n",
      "DANIEL.CABRAL@sakilacustomer.org\n",
      "TERRANCE.ROUSH@sakilacustomer.org\n",
      "JOYCE.EDWARDS@sakilacustomer.org\n",
      "GWENDOLYN.MAY@sakilacustomer.org\n",
      "CATHERINE.CAMPBELL@sakilacustomer.org\n",
      "MATTHEW.MAHAN@sakilacustomer.org\n",
      "HERMAN.DEVORE@sakilacustomer.org\n",
      "AMBER.DIXON@sakilacustomer.org\n",
      "TERRENCE.GUNDERSON@sakilacustomer.org\n",
      "SONIA.GREGORY@sakilacustomer.org\n",
      "CHARLES.KOWALSKI@sakilacustomer.org\n",
      "JEANETTE.GREENE@sakilacustomer.org\n"
     ]
    }
   ],
   "source": [
    "# 복잡한 쿼리를 실행하기\n",
    "query = \"\"\"\n",
    "select c.email\n",
    "from customer as c\n",
    "    inner join rental as r \n",
    "    on c.customer_id = r.customer_id\n",
    "where date (r.rental_date) = (%s)\n",
    "\"\"\"\n",
    "\n",
    "cur.execute(query, ('2005-06-14'))\n",
    "rows = cur.fetchall()\n",
    "for row in rows:\n",
    "    print(row[0])\n"
   ],
   "metadata": {
    "collapsed": false,
    "ExecuteTime": {
     "end_time": "2024-02-02T06:07:44.344498100Z",
     "start_time": "2024-02-02T06:07:44.334684500Z"
    }
   },
   "id": "aae73af95522aefc",
   "execution_count": 39
  },
  {
   "cell_type": "code",
   "outputs": [],
   "source": [
    "# 테이블을 생성 하여 적용하기\n",
    "def create_table(conn, cur):\n",
    "    try:\n",
    "        beforequery = '''\n",
    "        drop table if exists customer\n",
    "        '''\n",
    "        query = '''\n",
    "        create table customer(\n",
    "        name varchar(10),\n",
    "        category smallint,\n",
    "        region varchar(10))\n",
    "        '''\n",
    "        cur.execute(beforequery)\n",
    "        cur.execute(query)\n",
    "        conn.commit()\n",
    "    except Exception as e:\n",
    "        print(e)\n",
    "#\n",
    "# sqlclass_db 접속하기\n",
    "connclass = sql.connect(\n",
    "    host='localhost',\n",
    "    user='root',\n",
    "    password='1234',\n",
    "    db='sqlclass_db',\n",
    "    charset='utf8'\n",
    ")\n",
    "\n",
    "# 접근자 생성하기\n",
    "curclass = connclass.cursor()\n",
    "create_table(connclass, curclass)\n",
    "\n",
    "query_addData ='''\n",
    "insert into customer(name, category, region)\n",
    "values ((%s), (%s), (%s))\n",
    "'''\n",
    "# 또는 (%s, %s, %s) 이렇게 하면 된다.\n",
    "# curclass.execute(query_addData, ('김철수', 1, '서울'))\n",
    "# curclass.execute(query_addData, ('이영희', 2, '경기'))\n",
    "# curclass.execute(query_addData, ('박민수', 3, '부산'))\n",
    "# curclass.execute(query_addData, ('최지혜', 4, '대구'))\n",
    "# excutemany 를 통해서 한번에 값을 넣을수도 있다.\n",
    "datas = [\n",
    "    ('김철수', 1, '서울'),\n",
    "    ('이영희', 2, '경기'),\n",
    "    ('박민수', 3, '부산'),\n",
    "    ('최지혜', 4, '대구'),\n",
    "]\n",
    "curclass.executemany(query_addData, datas)\n",
    "connclass.commit()\n",
    "\n",
    "curclass.execute('''select * from customer''')\n",
    "result = curclass.fetchall()\n",
    "pd.DataFrame(result)\n",
    "\n",
    "updateQuery = '''\n",
    "update customer\n",
    "set region = '서울특별시'\n",
    "where region = '서울'\n",
    "'''\n",
    "curclass.execute(updateQuery)\n",
    "\n",
    "deleteQuery = '''\n",
    "delete from customer\n",
    "where name = %s\n",
    "'''\n",
    "curclass.execute(deleteQuery, '최지혜')\n",
    "connclass.commit()\n"
   ],
   "metadata": {
    "collapsed": false,
    "ExecuteTime": {
     "end_time": "2024-02-02T06:36:47.867966200Z",
     "start_time": "2024-02-02T06:36:47.813696400Z"
    }
   },
   "id": "9a17961837e72297",
   "execution_count": 75
  },
  {
   "cell_type": "code",
   "outputs": [],
   "source": [
    "\n",
    "# curclass.close()\n",
    "# connclass.close()"
   ],
   "metadata": {
    "collapsed": false,
    "ExecuteTime": {
     "end_time": "2024-02-02T06:19:37.041032700Z",
     "start_time": "2024-02-02T06:19:37.014989Z"
    }
   },
   "id": "cac93f4c9df5ad5a",
   "execution_count": 61
  },
  {
   "cell_type": "code",
   "outputs": [
    {
     "ename": "Error",
     "evalue": "Already closed",
     "output_type": "error",
     "traceback": [
      "\u001B[1;31m---------------------------------------------------------------------------\u001B[0m",
      "\u001B[1;31mError\u001B[0m                                     Traceback (most recent call last)",
      "Cell \u001B[1;32mIn[72], line 2\u001B[0m\n\u001B[0;32m      1\u001B[0m cur\u001B[38;5;241m.\u001B[39mclose()\n\u001B[1;32m----> 2\u001B[0m \u001B[43mconn\u001B[49m\u001B[38;5;241;43m.\u001B[39;49m\u001B[43mclose\u001B[49m\u001B[43m(\u001B[49m\u001B[43m)\u001B[49m\n",
      "File \u001B[1;32m~\\DataGripProjects\\SQLLearning\\.venv\\Lib\\site-packages\\pymysql\\connections.py:409\u001B[0m, in \u001B[0;36mConnection.close\u001B[1;34m(self)\u001B[0m\n\u001B[0;32m    400\u001B[0m \u001B[38;5;250m\u001B[39m\u001B[38;5;124;03m\"\"\"\u001B[39;00m\n\u001B[0;32m    401\u001B[0m \u001B[38;5;124;03mSend the quit message and close the socket.\u001B[39;00m\n\u001B[0;32m    402\u001B[0m \n\u001B[1;32m   (...)\u001B[0m\n\u001B[0;32m    406\u001B[0m \u001B[38;5;124;03m:raise Error: If the connection is already closed.\u001B[39;00m\n\u001B[0;32m    407\u001B[0m \u001B[38;5;124;03m\"\"\"\u001B[39;00m\n\u001B[0;32m    408\u001B[0m \u001B[38;5;28;01mif\u001B[39;00m \u001B[38;5;28mself\u001B[39m\u001B[38;5;241m.\u001B[39m_closed:\n\u001B[1;32m--> 409\u001B[0m     \u001B[38;5;28;01mraise\u001B[39;00m err\u001B[38;5;241m.\u001B[39mError(\u001B[38;5;124m\"\u001B[39m\u001B[38;5;124mAlready closed\u001B[39m\u001B[38;5;124m\"\u001B[39m)\n\u001B[0;32m    410\u001B[0m \u001B[38;5;28mself\u001B[39m\u001B[38;5;241m.\u001B[39m_closed \u001B[38;5;241m=\u001B[39m \u001B[38;5;28;01mTrue\u001B[39;00m\n\u001B[0;32m    411\u001B[0m \u001B[38;5;28;01mif\u001B[39;00m \u001B[38;5;28mself\u001B[39m\u001B[38;5;241m.\u001B[39m_sock \u001B[38;5;129;01mis\u001B[39;00m \u001B[38;5;28;01mNone\u001B[39;00m:\n",
      "\u001B[1;31mError\u001B[0m: Already closed"
     ]
    }
   ],
   "source": [
    "cur.close()\n",
    "conn.close()"
   ],
   "metadata": {
    "collapsed": false,
    "ExecuteTime": {
     "end_time": "2024-02-02T06:29:24.583720Z",
     "start_time": "2024-02-02T06:29:24.521601600Z"
    }
   },
   "id": "3a00db9a1fdd8410",
   "execution_count": 72
  }
 ],
 "metadata": {
  "kernelspec": {
   "display_name": "Python 3",
   "language": "python",
   "name": "python3"
  },
  "language_info": {
   "codemirror_mode": {
    "name": "ipython",
    "version": 2
   },
   "file_extension": ".py",
   "mimetype": "text/x-python",
   "name": "python",
   "nbconvert_exporter": "python",
   "pygments_lexer": "ipython2",
   "version": "2.7.6"
  }
 },
 "nbformat": 4,
 "nbformat_minor": 5
}
